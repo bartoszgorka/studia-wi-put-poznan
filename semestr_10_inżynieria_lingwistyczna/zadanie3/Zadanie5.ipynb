{
  "nbformat": 4,
  "nbformat_minor": 0,
  "metadata": {
    "kernelspec": {
      "display_name": "Python 3",
      "language": "python",
      "name": "python3"
    },
    "language_info": {
      "codemirror_mode": {
        "name": "ipython",
        "version": 3
      },
      "file_extension": ".py",
      "mimetype": "text/x-python",
      "name": "python",
      "nbconvert_exporter": "python",
      "pygments_lexer": "ipython3",
      "version": "3.6.9"
    },
    "colab": {
      "name": "InzynieriaLingwistycznaZadanie5.ipynb",
      "provenance": [],
      "collapsed_sections": []
    }
  },
  "cells": [
    {
      "cell_type": "markdown",
      "metadata": {
        "id": "dvd6tZFCATh5",
        "colab_type": "text"
      },
      "source": [
        "# Inżynieria lingwistyczna\n",
        "Ten notebook jest oceniany półautomatycznie. Nie twórz ani nie usuwaj komórek - struktura notebooka musi zostać zachowana. Odpowiedź wypełnij tam gdzie jest na to wskazane miejsce - odpowiedzi w innych miejscach nie będą sprawdzane (nie są widoczne dla sprawdzającego w systemie).\n",
        "\n",
        "Make sure you fill in any place that says `YOUR CODE HERE` or \"YOUR ANSWER HERE\"."
      ]
    },
    {
      "cell_type": "markdown",
      "metadata": {
        "id": "kEYiqITRATh6",
        "colab_type": "text"
      },
      "source": [
        "---"
      ]
    },
    {
      "cell_type": "markdown",
      "metadata": {
        "id": "V6RsHdEOATh6",
        "colab_type": "text"
      },
      "source": [
        "# Moduł 5: Statystyczne tłumaczenie maszynowe\n",
        "\n",
        "## Zadanie 1\n",
        "Zadanie polega na zaimplementowaniu algorytmu Expectation-Maximization w modelu IBM Model 1 do przypasowywania słów. Będzie to fragment modelu, który tłumaczyć będzie z hiszpańskiego na angielski. \n",
        "\n",
        "UWAGA: Specjalny token \"NULL\" pomijamy w implementacji.\n",
        "\n",
        "Dany jest mini-korpus równoległy angielsko-hiszpański\n",
        "- \"green house\" \"casa verde\"\n",
        "- \"the house\" \"la casa\"\n",
        "- \"the green house\" \"la casa verde\"\n"
      ]
    },
    {
      "cell_type": "code",
      "metadata": {
        "id": "uHxApu6iATh7",
        "colab_type": "code",
        "colab": {}
      },
      "source": [
        "import itertools\n",
        "english = [[\"green\",\"house\"], [\"the\",\"house\"], [\"the\", \"green\", \"house\"]]\n",
        "spanish = [[\"casa\", \"verde\"], [\"la\", \"casa\"], [\"la\", \"casa\", \"verde\"]]"
      ],
      "execution_count": 0,
      "outputs": []
    },
    {
      "cell_type": "markdown",
      "metadata": {
        "id": "NNqrHEy-ATh_",
        "colab_type": "text"
      },
      "source": [
        "W dalszych funkcjach przydatne może być wyznaczenie słownika czyli zbioru słów z korpusu dla danego języka."
      ]
    },
    {
      "cell_type": "code",
      "metadata": {
        "deletable": false,
        "nbgrader": {
          "cell_type": "code",
          "checksum": "ab962d04ff327161dd545fd42ce9b2ee",
          "grade": false,
          "grade_id": "cell-91ce5ad3201d3840",
          "locked": false,
          "schema_version": 3,
          "solution": true,
          "task": false
        },
        "id": "kpX5yTosATh_",
        "colab_type": "code",
        "colab": {}
      },
      "source": [
        "def get_vocabulary(corpus):\n",
        "    \"\"\"\n",
        "    Funkcja zwracająca zbiór unikalnych słów z korpusu podanego w formacie zmiennej english i spanish\n",
        "    \"\"\"\n",
        "    return set(word for nested_list in corpus for word in nested_list)"
      ],
      "execution_count": 0,
      "outputs": []
    },
    {
      "cell_type": "code",
      "metadata": {
        "deletable": false,
        "editable": false,
        "nbgrader": {
          "cell_type": "code",
          "checksum": "03f2fde3e2385f2037bcb146ba7914e5",
          "grade": true,
          "grade_id": "cell-69a37d074c36bafa",
          "locked": true,
          "points": 1,
          "schema_version": 3,
          "solution": false,
          "task": false
        },
        "id": "w_Vp7tSTATiB",
        "colab_type": "code",
        "colab": {}
      },
      "source": [
        "from nose.tools import assert_set_equal\n",
        "assert_set_equal(set(get_vocabulary(english)), set([\"the\", \"green\", \"house\"]))"
      ],
      "execution_count": 0,
      "outputs": []
    },
    {
      "cell_type": "markdown",
      "metadata": {
        "id": "hF0jeVGvATiE",
        "colab_type": "text"
      },
      "source": [
        "Zainicjalizuj rozkład prawdopodobieństwa tłumaczenia słów rozkładem jednorodnym. Ponieważ zależy nam na prostocie implementacji (a nie efektywności) możemy to prawdopodobieństwo zaimplementować jako zwykły słownik, który będzie przyjmował na wejściu krotkę dwóch słów. Słownik nazwij `translation_prob` z kluczami (słowo_es, słowo_en)."
      ]
    },
    {
      "cell_type": "code",
      "metadata": {
        "deletable": false,
        "nbgrader": {
          "cell_type": "code",
          "checksum": "c5f903d8e7d39b8ca60c841fe1ff55b3",
          "grade": false,
          "grade_id": "cell-d90e10211e9d2c82",
          "locked": false,
          "schema_version": 3,
          "solution": true,
          "task": false
        },
        "id": "nB0-c3eaATiE",
        "colab_type": "code",
        "colab": {}
      },
      "source": [
        "from collections import defaultdict\n",
        "\n",
        "def initalize_translation_prob(target, source):\n",
        "  \"\"\"\n",
        "  Inicjalizacja prawdopodobieństw tłumaczeń pomiędzy słowami.\n",
        "  Wyjściowy słownik w postaci (słowo z source, słowo z target) => prawdopodobieństwo\n",
        "\n",
        "  Początkowe prawdopodobieństwa jako rozkład jednorodny.\n",
        "  \"\"\"\n",
        "  prob = {}\n",
        "  words_in_target = get_vocabulary(target)\n",
        "  words_in_source = get_vocabulary(source)\n",
        "  uniform_probability = 1 / len(words_in_target)\n",
        "\n",
        "  for word_target in words_in_target:\n",
        "    for word_source in words_in_source:\n",
        "      prob[(word_source, word_target)] = uniform_probability\n",
        "  return prob\n",
        "\n",
        "translation_prob = initalize_translation_prob(english, spanish)"
      ],
      "execution_count": 0,
      "outputs": []
    },
    {
      "cell_type": "markdown",
      "metadata": {
        "id": "hc7NmdcHATiH",
        "colab_type": "text"
      },
      "source": [
        "Wypisz zaincjalizowany słownik, żeby upewnić się że wynik jest prawidłowy."
      ]
    },
    {
      "cell_type": "code",
      "metadata": {
        "id": "jVX1SLwhATiH",
        "colab_type": "code",
        "outputId": "435e87c7-9f4a-466c-cd06-ad5467665e50",
        "colab": {
          "base_uri": "https://localhost:8080/",
          "height": 170
        }
      },
      "source": [
        "translation_prob"
      ],
      "execution_count": 5,
      "outputs": [
        {
          "output_type": "execute_result",
          "data": {
            "text/plain": [
              "{('casa', 'green'): 0.3333333333333333,\n",
              " ('casa', 'house'): 0.3333333333333333,\n",
              " ('casa', 'the'): 0.3333333333333333,\n",
              " ('la', 'green'): 0.3333333333333333,\n",
              " ('la', 'house'): 0.3333333333333333,\n",
              " ('la', 'the'): 0.3333333333333333,\n",
              " ('verde', 'green'): 0.3333333333333333,\n",
              " ('verde', 'house'): 0.3333333333333333,\n",
              " ('verde', 'the'): 0.3333333333333333}"
            ]
          },
          "metadata": {
            "tags": []
          },
          "execution_count": 5
        }
      ]
    },
    {
      "cell_type": "markdown",
      "metadata": {
        "id": "mVuHLwD7ATiJ",
        "colab_type": "text"
      },
      "source": [
        "Zaimplementuj pierwszy krok algorytmu EM. Wyznacz wartości oczekiwane zmiennych przypisania słowa we wszystkich zdaniach w korpusie (oznaczane na wykładzie jako `a`)."
      ]
    },
    {
      "cell_type": "code",
      "metadata": {
        "deletable": false,
        "nbgrader": {
          "cell_type": "code",
          "checksum": "b120bdbf77612fba126fed52c1626544",
          "grade": false,
          "grade_id": "cell-20e467cd48dc07f4",
          "locked": false,
          "schema_version": 3,
          "solution": true,
          "task": false
        },
        "id": "vDkMPlbSATiK",
        "colab_type": "code",
        "colab": {}
      },
      "source": [
        "from collections import defaultdict\n",
        "\n",
        "def calculate_expectation(corpora1, corpora2, translation_prob):\n",
        "    \"\"\"\n",
        "    Procedura wykonująca krok \"E\" algorytmu EM\n",
        "    Wynikiem wartości oczekiwane dla zmiennej przypisań słów w zdaniach w postaci\n",
        "    słownika (słowo z języka źródłowego, słowo z języka docelowego) => wartość.\n",
        "    \"\"\"\n",
        "    source_target = {}\n",
        "\n",
        "    for sentence_k_number, (target_sentence, source_sentence) in enumerate(zip(corpora1, corpora2)):\n",
        "      for target in target_sentence:\n",
        "        for source in source_sentence:\n",
        "          source_target[(sentence_k_number, source, target)] = translation_prob.get((source, target), 0)\n",
        "\n",
        "    # Normalizacja\n",
        "    totals_probs = defaultdict(lambda: 0.0)\n",
        "    for (iteration, source, target), value in source_target.items():\n",
        "        totals_probs[(iteration, target)] += value\n",
        "    return { (iteration, source, target): value / totals_probs[(iteration, target)] for (iteration, source, target), value in source_target.items()}\n",
        "\n",
        "assigment_expected_values = calculate_expectation(english, spanish, translation_prob)"
      ],
      "execution_count": 0,
      "outputs": []
    },
    {
      "cell_type": "markdown",
      "metadata": {
        "id": "7ICeNgp_ATiM",
        "colab_type": "text"
      },
      "source": [
        "Wypisz wartości oczekiwane zmiennych przypisań, aby zobaczyć jak wyglądają. Powinny one również prezentować całkowity brak wiedzy o przypisaniach (rozkłady jednorodne)."
      ]
    },
    {
      "cell_type": "code",
      "metadata": {
        "id": "nZHPL8ZHATiN",
        "colab_type": "code",
        "outputId": "21dcc959-25f7-43f2-d95e-c364d684c255",
        "colab": {
          "base_uri": "https://localhost:8080/",
          "height": 306
        }
      },
      "source": [
        "assigment_expected_values"
      ],
      "execution_count": 7,
      "outputs": [
        {
          "output_type": "execute_result",
          "data": {
            "text/plain": [
              "{(0, 'casa', 'green'): 0.5,\n",
              " (0, 'casa', 'house'): 0.5,\n",
              " (0, 'verde', 'green'): 0.5,\n",
              " (0, 'verde', 'house'): 0.5,\n",
              " (1, 'casa', 'house'): 0.5,\n",
              " (1, 'casa', 'the'): 0.5,\n",
              " (1, 'la', 'house'): 0.5,\n",
              " (1, 'la', 'the'): 0.5,\n",
              " (2, 'casa', 'green'): 0.3333333333333333,\n",
              " (2, 'casa', 'house'): 0.3333333333333333,\n",
              " (2, 'casa', 'the'): 0.3333333333333333,\n",
              " (2, 'la', 'green'): 0.3333333333333333,\n",
              " (2, 'la', 'house'): 0.3333333333333333,\n",
              " (2, 'la', 'the'): 0.3333333333333333,\n",
              " (2, 'verde', 'green'): 0.3333333333333333,\n",
              " (2, 'verde', 'house'): 0.3333333333333333,\n",
              " (2, 'verde', 'the'): 0.3333333333333333}"
            ]
          },
          "metadata": {
            "tags": []
          },
          "execution_count": 7
        }
      ]
    },
    {
      "cell_type": "markdown",
      "metadata": {
        "id": "Yu_NvGpVATiP",
        "colab_type": "text"
      },
      "source": [
        "Zaimplementuj drugi krok algorytmu EM. Wyznacz nowe `translation_prob` na podstawie oczekiwanych wartości zmiennych przypisań."
      ]
    },
    {
      "cell_type": "code",
      "metadata": {
        "deletable": false,
        "nbgrader": {
          "cell_type": "code",
          "checksum": "8f67c4062342e3a60cbbb1b28a783d37",
          "grade": false,
          "grade_id": "cell-5806efe4531f9f01",
          "locked": false,
          "schema_version": 3,
          "solution": true,
          "task": false
        },
        "id": "l-AzAn_FATiP",
        "colab_type": "code",
        "colab": {}
      },
      "source": [
        "def calculate_maximization(corpora1, corpora2, assigment_expected_values):\n",
        "  \"\"\"\n",
        "  Procedura wykonująca krok \"M\" algorytmu EM\n",
        "\n",
        "  Normalizacja prawdopodobieństw warunkowych dla słów.\n",
        "  \"\"\"\n",
        "  t_source_target = defaultdict(lambda: 0.0)\n",
        "  total_word_prob = defaultdict(lambda: 0.0)\n",
        "\n",
        "  for (sentence_k_number, source, target), prob in assigment_expected_values.items():\n",
        "    t_source_target[(source, target)] += prob\n",
        "    total_word_prob[target] += prob\n",
        "\n",
        "  # Normalizacja\n",
        "  return { (source, target): value / total_word_prob[target] for (source, target), value in t_source_target.items()}\n",
        "\n",
        "translation_prob = calculate_maximization(english, spanish, assigment_expected_values)"
      ],
      "execution_count": 0,
      "outputs": []
    },
    {
      "cell_type": "code",
      "metadata": {
        "deletable": false,
        "editable": false,
        "nbgrader": {
          "cell_type": "code",
          "checksum": "0d92bddac888f1ab9d18c6ac43260456",
          "grade": true,
          "grade_id": "cell-4d5309aeab35f6c7",
          "locked": true,
          "points": 8,
          "schema_version": 3,
          "solution": false,
          "task": false
        },
        "id": "eQxtzux6ATiR",
        "colab_type": "code",
        "colab": {}
      },
      "source": [
        "from nose.tools import assert_almost_equal\n",
        "assert_almost_equal(translation_prob[('casa', 'house')], 4/9.)\n",
        "assert_almost_equal(translation_prob[('la', 'house')], 5/18.)"
      ],
      "execution_count": 0,
      "outputs": []
    },
    {
      "cell_type": "markdown",
      "metadata": {
        "id": "XhuVATPwATiT",
        "colab_type": "text"
      },
      "source": [
        "Wywołaj w pętli 10 kroków algorytmu EM i zaobserwuj jak zmieniają się prawdopodobieństwa dla tłumacznienia \"house\"."
      ]
    },
    {
      "cell_type": "code",
      "metadata": {
        "id": "hTyfkyajATiT",
        "colab_type": "code",
        "outputId": "56d17b0c-c88a-45e4-a21b-4a977410a767",
        "colab": {
          "base_uri": "https://localhost:8080/",
          "height": 357
        }
      },
      "source": [
        "for i in range(10):\n",
        "    assigment_expected_values = calculate_expectation(english, spanish, translation_prob)\n",
        "    translation_prob = calculate_maximization(english, spanish, assigment_expected_values)\n",
        "    print([(i,j) for i,j in translation_prob.items() if i[1] == \"house\"])\n",
        "    print(\"---\")\n"
      ],
      "execution_count": 10,
      "outputs": [
        {
          "output_type": "stream",
          "text": [
            "[(('casa', 'house'), 0.5584045584045584), (('verde', 'house'), 0.22079772079772084), (('la', 'house'), 0.22079772079772084)]\n",
            "---\n",
            "[(('casa', 'house'), 0.6638923177619094), (('verde', 'house'), 0.16805384111904528), (('la', 'house'), 0.16805384111904528)]\n",
            "---\n",
            "[(('casa', 'house'), 0.7532968646774504), (('verde', 'house'), 0.12335156766127481), (('la', 'house'), 0.12335156766127481)]\n",
            "---\n",
            "[(('casa', 'house'), 0.8239601969358895), (('verde', 'house'), 0.08801990153205524), (('la', 'house'), 0.08801990153205524)]\n",
            "---\n",
            "[(('casa', 'house'), 0.8769766282684489), (('verde', 'house'), 0.061511685865775545), (('la', 'house'), 0.061511685865775545)]\n",
            "---\n",
            "[(('casa', 'house'), 0.915296630096382), (('verde', 'house'), 0.042351684951809056), (('la', 'house'), 0.042351684951809056)]\n",
            "---\n",
            "[(('casa', 'house'), 0.94228242707854), (('verde', 'house'), 0.028858786460729976), (('la', 'house'), 0.028858786460729976)]\n",
            "---\n",
            "[(('casa', 'house'), 0.9609498992371662), (('verde', 'house'), 0.019525050381416956), (('la', 'house'), 0.019525050381416956)]\n",
            "---\n",
            "[(('casa', 'house'), 0.9737073866187812), (('verde', 'house'), 0.013146306690609386), (('la', 'house'), 0.013146306690609386)]\n",
            "---\n",
            "[(('casa', 'house'), 0.9823548393048195), (('verde', 'house'), 0.008822580347590371), (('la', 'house'), 0.008822580347590371)]\n",
            "---\n"
          ],
          "name": "stdout"
        }
      ]
    },
    {
      "cell_type": "markdown",
      "metadata": {
        "id": "KC9yT5GNATiW",
        "colab_type": "text"
      },
      "source": [
        "Wywołaj algorytm EM na poniższym korpusie."
      ]
    },
    {
      "cell_type": "code",
      "metadata": {
        "id": "UafTB69WATiW",
        "colab_type": "code",
        "colab": {}
      },
      "source": [
        "english2 = [[\"the\",\"dog\"], [\"the\",\"house\"], [\"the\", \"green\", \"house\"]]\n",
        "polish = [[\"pies\"], [\"dom\"], [\"zielony\", \"dom\"]]"
      ],
      "execution_count": 0,
      "outputs": []
    },
    {
      "cell_type": "code",
      "metadata": {
        "deletable": false,
        "nbgrader": {
          "cell_type": "code",
          "checksum": "d7e69515106c187cdfce882609a23b6e",
          "grade": false,
          "grade_id": "cell-cff38f444b9c8d1a",
          "locked": false,
          "schema_version": 3,
          "solution": true,
          "task": false
        },
        "id": "xX-bEK5yATiZ",
        "colab_type": "code",
        "colab": {}
      },
      "source": [
        "translation_prob = initalize_translation_prob(english2, polish)\n",
        "for i in range(10):\n",
        "    assigment_expected_values = calculate_expectation(english2, polish, translation_prob)\n",
        "    translation_prob = calculate_maximization(english2, polish, assigment_expected_values)"
      ],
      "execution_count": 0,
      "outputs": []
    },
    {
      "cell_type": "markdown",
      "metadata": {
        "deletable": false,
        "editable": false,
        "nbgrader": {
          "cell_type": "markdown",
          "checksum": "4755d83d4ecebe39866dccbb275fec90",
          "grade": false,
          "grade_id": "cell-9dfc99a37938134a",
          "locked": true,
          "points": 0,
          "schema_version": 3,
          "solution": false,
          "task": true
        },
        "id": "nQZy2AcxATie",
        "colab_type": "text"
      },
      "source": [
        "Sprawdź jak wyglądają prawdopodobieństwa tłumaczeń po 10 iteracjach."
      ]
    },
    {
      "cell_type": "code",
      "metadata": {
        "id": "xks84GFVATie",
        "colab_type": "code",
        "outputId": "05e2cb73-df50-467e-b6f2-94293d7dde73",
        "colab": {
          "base_uri": "https://localhost:8080/",
          "height": 153
        }
      },
      "source": [
        "translation_prob"
      ],
      "execution_count": 13,
      "outputs": [
        {
          "output_type": "execute_result",
          "data": {
            "text/plain": [
              "{('dom', 'green'): 0.5,\n",
              " ('dom', 'house'): 0.99951171875,\n",
              " ('dom', 'the'): 0.6663411458333334,\n",
              " ('pies', 'dog'): 1.0,\n",
              " ('pies', 'the'): 0.3333333333333333,\n",
              " ('zielony', 'green'): 0.5,\n",
              " ('zielony', 'house'): 0.00048828125,\n",
              " ('zielony', 'the'): 0.0003255208333333333}"
            ]
          },
          "metadata": {
            "tags": []
          },
          "execution_count": 13
        }
      ]
    },
    {
      "cell_type": "markdown",
      "metadata": {
        "id": "xczDjdrRATih",
        "colab_type": "text"
      },
      "source": [
        "Sprawdź czy gdybyś dodał słówko `NULL` to algorytm nauczyłby się wiązać słówko `NULL` na `the`, które nie występuje w języku polskim?"
      ]
    },
    {
      "cell_type": "code",
      "metadata": {
        "deletable": false,
        "nbgrader": {
          "cell_type": "code",
          "checksum": "916e8668bbff73c5896171de57b8e0f1",
          "grade": true,
          "grade_id": "cell-874a2c94ce1bd996",
          "locked": false,
          "points": 1,
          "schema_version": 3,
          "solution": true,
          "task": false
        },
        "id": "_jayuRBdATih",
        "colab_type": "code",
        "outputId": "19332a3e-53e1-446e-99f3-89188c38b834",
        "colab": {
          "base_uri": "https://localhost:8080/",
          "height": 34
        }
      },
      "source": [
        "polish_with_null = [[\"NULL\"] + sentence for sentence in polish]\n",
        "polish_with_null"
      ],
      "execution_count": 14,
      "outputs": [
        {
          "output_type": "execute_result",
          "data": {
            "text/plain": [
              "[['NULL', 'pies'], ['NULL', 'dom'], ['NULL', 'zielony', 'dom']]"
            ]
          },
          "metadata": {
            "tags": []
          },
          "execution_count": 14
        }
      ]
    },
    {
      "cell_type": "code",
      "metadata": {
        "id": "tHNpwugzATij",
        "colab_type": "code",
        "outputId": "595e8e2d-00af-4d79-c52b-4fd5d036819b",
        "colab": {
          "base_uri": "https://localhost:8080/",
          "height": 323
        }
      },
      "source": [
        "# Analiza english & polish z NULL\n",
        "translation_prob = initalize_translation_prob(english2, polish_with_null)\n",
        "for i in range(10):\n",
        "    assigment_expected_values = calculate_expectation(english2, polish_with_null, translation_prob)\n",
        "    translation_prob = calculate_maximization(english2, polish_with_null, assigment_expected_values)\n",
        "\n",
        "for (k, v) in translation_prob.items():\n",
        "  if v > 0.01:\n",
        "    print('{:10} {:10} {}'.format(k[0], k[1], v))\n",
        "\n",
        "# --------------------------------------------------------------------------------------\n",
        "print('-------------------------------------------------------------------------------')\n",
        "# --------------------------------------------------------------------------------------\n",
        "\n",
        "# Analiza english & spanish z NULL\n",
        "spanish_with_null = [[\"NULL\"] + sentence for sentence in spanish]\n",
        "translation_prob = initalize_translation_prob(english, spanish_with_null)\n",
        "for i in range(10):\n",
        "    assigment_expected_values = calculate_expectation(english, spanish_with_null, translation_prob)\n",
        "    translation_prob = calculate_maximization(english, spanish_with_null, assigment_expected_values)\n",
        "\n",
        "for (k, v) in translation_prob.items():\n",
        "  if v > 0.01:\n",
        "    print('{:10} {:10} {}'.format(k[0], k[1], v))"
      ],
      "execution_count": 15,
      "outputs": [
        {
          "output_type": "stream",
          "text": [
            "NULL       the        0.9884935162981091\n",
            "NULL       dog        0.5\n",
            "pies       dog        0.5\n",
            "dom        the        0.01146338484277804\n",
            "NULL       house      0.49983723958333337\n",
            "dom        house      0.49983723958333337\n",
            "NULL       green      0.3333333333333333\n",
            "zielony    green      0.3333333333333333\n",
            "dom        green      0.3333333333333333\n",
            "-------------------------------------------------------------------------------\n",
            "NULL       green      0.333251953125\n",
            "casa       green      0.333251953125\n",
            "verde      green      0.333251953125\n",
            "NULL       house      0.4927324333313708\n",
            "casa       house      0.4927324333313708\n",
            "NULL       the        0.33325195312499994\n",
            "la         the        0.33325195312499994\n",
            "casa       the        0.33325195312499994\n"
          ],
          "name": "stdout"
        }
      ]
    },
    {
      "cell_type": "markdown",
      "metadata": {
        "id": "cuLol8ncATim",
        "colab_type": "text"
      },
      "source": [
        "Jeśli wywołałbyś EM dla pierwszego korpusu równoległego (zmienne `english` i `spanish`) i dołączył tokeny `NULL` to EM tłumaczy NULL jako \"casa\" i \"house\" jako \"casa\" z takimi samymi prawdopodobieństwami. Dlaczego?"
      ]
    },
    {
      "cell_type": "markdown",
      "metadata": {
        "deletable": false,
        "nbgrader": {
          "cell_type": "markdown",
          "checksum": "688634a67e83abb3398e068a602702b7",
          "grade": true,
          "grade_id": "cell-0982ba49d3a2f657",
          "locked": false,
          "points": 1,
          "schema_version": 3,
          "solution": true,
          "task": false
        },
        "id": "mMUU1FPJATim",
        "colab_type": "text"
      },
      "source": [
        "Może to wynikać z założeń i ograniczeń które czyni model IBM 1:\n",
        "* słowo emitowane jest z dokładnie jednego słowa z języka źródłowego - nasz model chce się nauczyć że `NULL` też ma zastosowanie (co w przypadku danych w korpusie ES <> EN nie ma miejsca - każde słowo ma swój odpowiednik)."
      ]
    }
  ]
}